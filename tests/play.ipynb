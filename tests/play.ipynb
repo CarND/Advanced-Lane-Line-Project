{
 "cells": [
  {
   "cell_type": "code",
   "execution_count": 2,
   "metadata": {},
   "outputs": [
    {
     "name": "stdout",
     "output_type": "stream",
     "text": [
      "d:\\Dev\\self-driving-car-engineer-nano\\CarND_Advanced_Lane_Lines\\src\n",
      "d:\\Dev\\self-driving-car-engineer-nano\\CarND_Advanced_Lane_Lines\\src\n"
     ]
    }
   ],
   "source": [
    "import os\r\n",
    "print(os.getcwd())\r\n",
    "os.chdir(\"../src\")\r\n",
    "print(os.getcwd()) \r\n",
    "from pipeline_helper import PipelineHelper"
   ]
  },
  {
   "cell_type": "code",
   "execution_count": 1,
   "metadata": {},
   "outputs": [
    {
     "name": "stdout",
     "output_type": "stream",
     "text": [
      "d:\\Dev\\self-driving-car-engineer-nano\\CarND_Advanced_Lane_Lines\\tests\n",
      "d:\\Dev\\self-driving-car-engineer-nano\\CarND_Advanced_Lane_Lines\\src\n"
     ]
    }
   ],
   "source": [
    "import os\r\n",
    "print(os.getcwd())\r\n",
    "os.chdir(\"../src\")\r\n",
    "print(os.getcwd())"
   ]
  }
 ],
 "metadata": {
  "interpreter": {
   "hash": "33dc6d49505b4536b6a128d9d7c879e1fa44477ad44947bbbe73093067fe6393"
  },
  "kernelspec": {
   "display_name": "Python 3.9.0 64-bit",
   "name": "python3"
  },
  "language_info": {
   "codemirror_mode": {
    "name": "ipython",
    "version": 3
   },
   "file_extension": ".py",
   "mimetype": "text/x-python",
   "name": "python",
   "nbconvert_exporter": "python",
   "pygments_lexer": "ipython3",
   "version": "3.9.0"
  },
  "orig_nbformat": 4
 },
 "nbformat": 4,
 "nbformat_minor": 2
}